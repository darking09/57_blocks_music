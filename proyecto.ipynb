{
  "nbformat": 4,
  "nbformat_minor": 0,
  "metadata": {
    "colab": {
      "name": "proyecto.ipynb",
      "provenance": [],
      "collapsed_sections": [],
      "toc_visible": true,
      "machine_shape": "hm",
      "include_colab_link": true
    },
    "kernelspec": {
      "name": "python3",
      "display_name": "Python 3"
    },
    "language_info": {
      "name": "python"
    },
    "accelerator": "GPU"
  },
  "cells": [
    {
      "cell_type": "markdown",
      "metadata": {
        "id": "view-in-github",
        "colab_type": "text"
      },
      "source": [
        "<a href=\"https://colab.research.google.com/github/darking09/57_blocks_music/blob/main/proyecto.ipynb\" target=\"_parent\"><img src=\"https://colab.research.google.com/assets/colab-badge.svg\" alt=\"Open In Colab\"/></a>"
      ]
    },
    {
      "cell_type": "markdown",
      "source": [
        "# Verificación de la utilización de una red neuronal y una regresión lineal con aprendizaje supervizado\n",
        "---\n",
        "\n",
        "Autores:\n",
        "* Fernando Torres"
      ],
      "metadata": {
        "id": "1RuvD7J1syl5"
      }
    },
    {
      "cell_type": "code",
      "source": [
        "# Agruegue aquí las librerías que necesite\n",
        "import tensorflow as tf\n",
        "import pandas as pd\n",
        "import numpy as np\n",
        "import matplotlib as mpl\n",
        "import matplotlib.pyplot as plt\n",
        "from tensorflow.keras.models import Model\n",
        "from tensorflow.keras.layers import GRU, Dense, Input, Dropout, Flatten, AveragePooling2D\n",
        "from tensorflow.keras.metrics import CategoricalAccuracy\n",
        "from tensorflow.keras.optimizers import Adam\n",
        "from dataclasses import dataclass\n",
        "from datetime import datetime\n",
        "from functools import partial\n",
        "from tqdm import tqdm"
      ],
      "metadata": {
        "id": "KCamVvZ5wRW_"
      },
      "execution_count": 20,
      "outputs": []
    },
    {
      "cell_type": "markdown",
      "source": [
        "# 0. Funciones y elementos globales\n",
        "\n",
        "---\n",
        "\n"
      ],
      "metadata": {
        "id": "BuQMqP8F9MYl"
      }
    },
    {
      "cell_type": "code",
      "source": [
        "# Function to breakout the dataframe\n",
        "def simpleBreakoutDataFrame(df, start = None, end = None):\n",
        "  \n",
        "  if start is None and end is None:\n",
        "    return df[:]\n",
        "  elif start is None : \n",
        "    return df[:end]\n",
        "  elif end is None :\n",
        "    return df[start:]\n",
        "\n",
        "  return df[start:end]\n",
        "\n",
        "# function to transform an array to tensor\n",
        "def transformToTensor(arrayNp):\n",
        "  return tf.constant(np.array(arrayNp, dtype=np.float32), dtype='float32')\n",
        "\n",
        "# Function to make the window for time series\n",
        "def extract_sequences(X, window_size):\n",
        "  while True:\n",
        "    for i in range(X.shape[0] - window_size):\n",
        "      seq_x = X[i: i + window_size]\n",
        "      yield seq_x\n",
        "\n",
        "# GRU Focaster Class\n",
        "class GruForcaster(Model):\n",
        "    def __init__(self, n_recurrent, activation, *args, **kwargs):\n",
        "        super(GruForcaster, self).__init__(*args, **kwargs)\n",
        "        drop = 0.2\n",
        "        self.recurrent_layer = GRU(\n",
        "            n_recurrent, \n",
        "            activation=activation,\n",
        "            )\n",
        "\n",
        "\n",
        "        self.inter1 = Dense(128, activation=\"linear\")\n",
        "        self.inter2 = Dense(64, activation=\"linear\")\n",
        "        self.inter3 = Dense(128, activation=\"linear\")\n",
        "        self.output_layer = Dense(1, activation=\"linear\")\n",
        "    \n",
        "    def call(self, inputs):\n",
        "        intermediate = self.recurrent_layer(inputs)\n",
        "        inter1 = self.inter1(intermediate)\n",
        "        inter2 = self.inter2(inter1)\n",
        "        inter3 = self.inter3(inter2)\n",
        "        output = self.output_layer(inter3)\n",
        "        return output\n",
        "\n",
        "# Data params class definition\n",
        "@dataclass\n",
        "class DatasetParams:\n",
        "    window_size: int\n",
        "    batch_size: int\n",
        "    buffer_size: int\n",
        "\n",
        "dataset_params = DatasetParams(\n",
        "    window_size = 8,\n",
        "    batch_size = 64,\n",
        "    buffer_size = 1000\n",
        ")\n",
        "\n",
        "# Funtion to draw a priority graphic\n",
        "def priorityGraphics(prioritiesData):\n",
        "  plt.figure(figsize=(10,3), dpi = 180)\n",
        "\n",
        "  for i in range(len(prioritiesData)) :\n",
        "    data, ls, label = prioritiesData[i]\n",
        "    plt.plot(data, ls = ls, label = label)\n",
        "  \n",
        "  plt.xticks(rotation=90)\n",
        "  plt.grid(color='black', linestyle='-', linewidth=0.3)\n",
        "  plt.legend(loc='center left', bbox_to_anchor=(1, 0.5))"
      ],
      "metadata": {
        "id": "dcMmek1g9UaI"
      },
      "execution_count": 3,
      "outputs": []
    },
    {
      "cell_type": "markdown",
      "source": [
        "## 1. Entendimiento del problema\n",
        "---\n",
        "Agruegue una explicación de el problema que trata a solucionar. Intente dar respuesta a las siguientes preguntas:\n",
        "\n",
        "* De dónde vienen los datos?\n",
        "* Qué tipo de datos tenemos?\n",
        "* En qué formato están los datos?\n",
        "* Cuál es el objetivo de este proyecto?\n",
        "* Quienes se beneficiarían del producto?"
      ],
      "metadata": {
        "id": "A51lM-KVt3Z1"
      }
    },
    {
      "cell_type": "markdown",
      "source": [
        "## ¿De dónde vienen los datos?\n",
        "\n",
        "Este conjunto de datos fue tomado de Kaggle, es conocido como [123 emergency calls in Bogotá](https://www.kaggle.com/datasets/diegorojasdiaz/123-emergency-calls-in-bogota), segun estos contienen todo el historial de llamadas del 123 por un año."
      ],
      "metadata": {
        "id": "t7SSeANGveb8"
      }
    },
    {
      "cell_type": "markdown",
      "source": [
        "## ¿Qué tipo de datos tenemos?\n",
        "\n",
        "Acá contenemos la información relacionada por nombre de localidades, prioridad, clasificación final fecha de inicio del desplazamiento."
      ],
      "metadata": {
        "id": "VOrmLCY3yU8T"
      }
    },
    {
      "cell_type": "markdown",
      "source": [
        "## ¿En qué formato están los datos?\n",
        "\n",
        "La mayoria de los datos son categoricos, excepto la fecha de dezplamiento que para se categorico necesitaria un proceso."
      ],
      "metadata": {
        "id": "_HXqkodN01AZ"
      }
    },
    {
      "cell_type": "markdown",
      "source": [
        "## ¿Cuál es el objetivo de este proyecto?\n",
        "\n",
        "Este mismo modelo fue trabajado en primer diplomado para el modulo de machine learning usando una regresión lineal con MLPRegressor de Sklearn, la idea de esta aplicación es hacer una especie de comparación entre la implementación de una red neuronal con deep learning contra un modelo construido para machine learning."
      ],
      "metadata": {
        "id": "nc9d0RFT2Z0k"
      }
    },
    {
      "cell_type": "markdown",
      "source": [
        "## ¿Quienes se beneficiarían del producto?\n",
        "\n",
        "En el proyecto anterior la idea era pedecir el comportamiento de la linea para poder tener la preparación de los equipos de emergencia tuviera algun tipo de holgura a la hora de enfrentar estas emergencias. "
      ],
      "metadata": {
        "id": "JfLL9uhY5Yt3"
      }
    },
    {
      "cell_type": "markdown",
      "source": [
        "## 2. Carga de datos\n",
        "---\n",
        "\n",
        "Implemente las funciones necesarias para cargar la información en dependencia de su procedencia (web, archivos planos, csv, bases de datos, entre otros)."
      ],
      "metadata": {
        "id": "7MkAcFEXuK83"
      }
    },
    {
      "cell_type": "code",
      "source": [
        "# Datos originales para el proyecto\n",
        "\n",
        "previously_corpus = pd.read_csv('clean_df_123.csv')\n",
        "previously_corpus.head()"
      ],
      "metadata": {
        "colab": {
          "base_uri": "https://localhost:8080/",
          "height": 241
        },
        "id": "26z4r99u5iMI",
        "outputId": "6ab0103f-7cdd-4a17-8b9c-307854b08e7b"
      },
      "execution_count": 5,
      "outputs": [
        {
          "output_type": "stream",
          "name": "stderr",
          "text": [
            "/usr/local/lib/python3.7/dist-packages/IPython/core/interactiveshell.py:2882: DtypeWarning: Columns (8) have mixed types.Specify dtype option on import or set low_memory=False.\n",
            "  exec(code_obj, self.user_global_ns, self.user_ns)\n"
          ]
        },
        {
          "output_type": "execute_result",
          "data": {
            "text/plain": [
              "  FECHA_INICIO_DESPLAZAMIENTO_MOVIL  CODIGO_LOCALIDAD       LOCALIDAD  EDAD  \\\n",
              "0               2019-01-01 00:04:37                11            Suba   NaN   \n",
              "1               2019-01-01 00:07:41                 3        Santa Fe  51.0   \n",
              "2               2019-01-01 00:07:46                10        Engativá   NaN   \n",
              "3               2019-01-01 00:08:06                16   Puente Aranda   NaN   \n",
              "4               2019-01-01 00:10:26                15  Antonio Nariño   NaN   \n",
              "\n",
              "     GENERO    RED                             TIPO_INCIDENTE PRIORIDAD  \\\n",
              "0       NaN  Norte                        Lesiones personales      Alta   \n",
              "1  Femenino  Norte                             Dolor torácico      Alta   \n",
              "2       NaN  Norte      Inconsciente/paro cardiorrespiratorio      Alta   \n",
              "3       NaN    Sur  Accidente de tránsito con heridos/muertos      Alta   \n",
              "4       NaN  Norte      Inconsciente/paro cardiorrespiratorio      Alta   \n",
              "\n",
              "  CLASIFICACION_FINAL  \n",
              "0           Cancelado  \n",
              "1            Traslado  \n",
              "2        Falsa Alarma  \n",
              "3           Cancelado  \n",
              "4           Cancelado  "
            ],
            "text/html": [
              "\n",
              "  <div id=\"df-55fedafb-49f7-475d-82dc-dcd476fea8f5\">\n",
              "    <div class=\"colab-df-container\">\n",
              "      <div>\n",
              "<style scoped>\n",
              "    .dataframe tbody tr th:only-of-type {\n",
              "        vertical-align: middle;\n",
              "    }\n",
              "\n",
              "    .dataframe tbody tr th {\n",
              "        vertical-align: top;\n",
              "    }\n",
              "\n",
              "    .dataframe thead th {\n",
              "        text-align: right;\n",
              "    }\n",
              "</style>\n",
              "<table border=\"1\" class=\"dataframe\">\n",
              "  <thead>\n",
              "    <tr style=\"text-align: right;\">\n",
              "      <th></th>\n",
              "      <th>FECHA_INICIO_DESPLAZAMIENTO_MOVIL</th>\n",
              "      <th>CODIGO_LOCALIDAD</th>\n",
              "      <th>LOCALIDAD</th>\n",
              "      <th>EDAD</th>\n",
              "      <th>GENERO</th>\n",
              "      <th>RED</th>\n",
              "      <th>TIPO_INCIDENTE</th>\n",
              "      <th>PRIORIDAD</th>\n",
              "      <th>CLASIFICACION_FINAL</th>\n",
              "    </tr>\n",
              "  </thead>\n",
              "  <tbody>\n",
              "    <tr>\n",
              "      <th>0</th>\n",
              "      <td>2019-01-01 00:04:37</td>\n",
              "      <td>11</td>\n",
              "      <td>Suba</td>\n",
              "      <td>NaN</td>\n",
              "      <td>NaN</td>\n",
              "      <td>Norte</td>\n",
              "      <td>Lesiones personales</td>\n",
              "      <td>Alta</td>\n",
              "      <td>Cancelado</td>\n",
              "    </tr>\n",
              "    <tr>\n",
              "      <th>1</th>\n",
              "      <td>2019-01-01 00:07:41</td>\n",
              "      <td>3</td>\n",
              "      <td>Santa Fe</td>\n",
              "      <td>51.0</td>\n",
              "      <td>Femenino</td>\n",
              "      <td>Norte</td>\n",
              "      <td>Dolor torácico</td>\n",
              "      <td>Alta</td>\n",
              "      <td>Traslado</td>\n",
              "    </tr>\n",
              "    <tr>\n",
              "      <th>2</th>\n",
              "      <td>2019-01-01 00:07:46</td>\n",
              "      <td>10</td>\n",
              "      <td>Engativá</td>\n",
              "      <td>NaN</td>\n",
              "      <td>NaN</td>\n",
              "      <td>Norte</td>\n",
              "      <td>Inconsciente/paro cardiorrespiratorio</td>\n",
              "      <td>Alta</td>\n",
              "      <td>Falsa Alarma</td>\n",
              "    </tr>\n",
              "    <tr>\n",
              "      <th>3</th>\n",
              "      <td>2019-01-01 00:08:06</td>\n",
              "      <td>16</td>\n",
              "      <td>Puente Aranda</td>\n",
              "      <td>NaN</td>\n",
              "      <td>NaN</td>\n",
              "      <td>Sur</td>\n",
              "      <td>Accidente de tránsito con heridos/muertos</td>\n",
              "      <td>Alta</td>\n",
              "      <td>Cancelado</td>\n",
              "    </tr>\n",
              "    <tr>\n",
              "      <th>4</th>\n",
              "      <td>2019-01-01 00:10:26</td>\n",
              "      <td>15</td>\n",
              "      <td>Antonio Nariño</td>\n",
              "      <td>NaN</td>\n",
              "      <td>NaN</td>\n",
              "      <td>Norte</td>\n",
              "      <td>Inconsciente/paro cardiorrespiratorio</td>\n",
              "      <td>Alta</td>\n",
              "      <td>Cancelado</td>\n",
              "    </tr>\n",
              "  </tbody>\n",
              "</table>\n",
              "</div>\n",
              "      <button class=\"colab-df-convert\" onclick=\"convertToInteractive('df-55fedafb-49f7-475d-82dc-dcd476fea8f5')\"\n",
              "              title=\"Convert this dataframe to an interactive table.\"\n",
              "              style=\"display:none;\">\n",
              "        \n",
              "  <svg xmlns=\"http://www.w3.org/2000/svg\" height=\"24px\"viewBox=\"0 0 24 24\"\n",
              "       width=\"24px\">\n",
              "    <path d=\"M0 0h24v24H0V0z\" fill=\"none\"/>\n",
              "    <path d=\"M18.56 5.44l.94 2.06.94-2.06 2.06-.94-2.06-.94-.94-2.06-.94 2.06-2.06.94zm-11 1L8.5 8.5l.94-2.06 2.06-.94-2.06-.94L8.5 2.5l-.94 2.06-2.06.94zm10 10l.94 2.06.94-2.06 2.06-.94-2.06-.94-.94-2.06-.94 2.06-2.06.94z\"/><path d=\"M17.41 7.96l-1.37-1.37c-.4-.4-.92-.59-1.43-.59-.52 0-1.04.2-1.43.59L10.3 9.45l-7.72 7.72c-.78.78-.78 2.05 0 2.83L4 21.41c.39.39.9.59 1.41.59.51 0 1.02-.2 1.41-.59l7.78-7.78 2.81-2.81c.8-.78.8-2.07 0-2.86zM5.41 20L4 18.59l7.72-7.72 1.47 1.35L5.41 20z\"/>\n",
              "  </svg>\n",
              "      </button>\n",
              "      \n",
              "  <style>\n",
              "    .colab-df-container {\n",
              "      display:flex;\n",
              "      flex-wrap:wrap;\n",
              "      gap: 12px;\n",
              "    }\n",
              "\n",
              "    .colab-df-convert {\n",
              "      background-color: #E8F0FE;\n",
              "      border: none;\n",
              "      border-radius: 50%;\n",
              "      cursor: pointer;\n",
              "      display: none;\n",
              "      fill: #1967D2;\n",
              "      height: 32px;\n",
              "      padding: 0 0 0 0;\n",
              "      width: 32px;\n",
              "    }\n",
              "\n",
              "    .colab-df-convert:hover {\n",
              "      background-color: #E2EBFA;\n",
              "      box-shadow: 0px 1px 2px rgba(60, 64, 67, 0.3), 0px 1px 3px 1px rgba(60, 64, 67, 0.15);\n",
              "      fill: #174EA6;\n",
              "    }\n",
              "\n",
              "    [theme=dark] .colab-df-convert {\n",
              "      background-color: #3B4455;\n",
              "      fill: #D2E3FC;\n",
              "    }\n",
              "\n",
              "    [theme=dark] .colab-df-convert:hover {\n",
              "      background-color: #434B5C;\n",
              "      box-shadow: 0px 1px 3px 1px rgba(0, 0, 0, 0.15);\n",
              "      filter: drop-shadow(0px 1px 2px rgba(0, 0, 0, 0.3));\n",
              "      fill: #FFFFFF;\n",
              "    }\n",
              "  </style>\n",
              "\n",
              "      <script>\n",
              "        const buttonEl =\n",
              "          document.querySelector('#df-55fedafb-49f7-475d-82dc-dcd476fea8f5 button.colab-df-convert');\n",
              "        buttonEl.style.display =\n",
              "          google.colab.kernel.accessAllowed ? 'block' : 'none';\n",
              "\n",
              "        async function convertToInteractive(key) {\n",
              "          const element = document.querySelector('#df-55fedafb-49f7-475d-82dc-dcd476fea8f5');\n",
              "          const dataTable =\n",
              "            await google.colab.kernel.invokeFunction('convertToInteractive',\n",
              "                                                     [key], {});\n",
              "          if (!dataTable) return;\n",
              "\n",
              "          const docLinkHtml = 'Like what you see? Visit the ' +\n",
              "            '<a target=\"_blank\" href=https://colab.research.google.com/notebooks/data_table.ipynb>data table notebook</a>'\n",
              "            + ' to learn more about interactive tables.';\n",
              "          element.innerHTML = '';\n",
              "          dataTable['output_type'] = 'display_data';\n",
              "          await google.colab.output.renderOutput(dataTable, element);\n",
              "          const docLink = document.createElement('div');\n",
              "          docLink.innerHTML = docLinkHtml;\n",
              "          element.appendChild(docLink);\n",
              "        }\n",
              "      </script>\n",
              "    </div>\n",
              "  </div>\n",
              "  "
            ]
          },
          "metadata": {},
          "execution_count": 5
        }
      ]
    },
    {
      "cell_type": "code",
      "execution_count": 6,
      "metadata": {
        "id": "GB0w96wqss4F",
        "colab": {
          "base_uri": "https://localhost:8080/",
          "height": 404
        },
        "outputId": "ae097037-efb3-4df5-aeaa-7471977b3df0"
      },
      "outputs": [
        {
          "output_type": "execute_result",
          "data": {
            "text/plain": [
              "   Unnamed: 0 FECHA_INICIO_DESPLAZAMIENTO_MOVIL  Total_calls  \\\n",
              "0           0               2019-01-01 00:00:00          494   \n",
              "1           1               2019-01-02 00:00:00          411   \n",
              "2           2               2019-01-03 00:00:00          380   \n",
              "3           3               2019-01-04 00:00:00          432   \n",
              "4           4               2019-01-05 00:00:00          442   \n",
              "\n",
              "   Alta_counts_less_1  Media_counts_lag_less_1  Baja_counts_less_1  \\\n",
              "0                   0                        0                   0   \n",
              "1                 413                       74                   7   \n",
              "2                 334                       69                   7   \n",
              "3                 302                       70                   6   \n",
              "4                 329                       95                   8   \n",
              "\n",
              "   Suba_counts  Santa_Fe_counts  Engativá_counts  Puente_Aranda_counts  ...  \\\n",
              "0           57               10               38                    29  ...   \n",
              "1           46               17               30                    15  ...   \n",
              "2           37                7               42                    29  ...   \n",
              "3           51               13               34                    25  ...   \n",
              "4           49               16               40                    24  ...   \n",
              "\n",
              "   La_Candelaria_counts  Sumapaz_counts  Alta_counts  Media_counts  \\\n",
              "0                     1               0          413            74   \n",
              "1                     2               0          334            69   \n",
              "2                     1               0          302            70   \n",
              "3                     6               0          329            95   \n",
              "4                     2               0          339            94   \n",
              "\n",
              "   Baja_counts  No_Clasificado_counts      DAY_OF_WEEK  IS_WEEKEND  \\\n",
              "0            7                      0  [1 0 0 0 0 0 0]           0   \n",
              "1            7                      1  [0 1 0 0 0 0 0]           0   \n",
              "2            6                      2  [0 0 1 0 0 0 0]           0   \n",
              "3            8                      0  [0 0 0 1 0 0 0]           0   \n",
              "4            8                      1  [0 0 0 0 1 0 0]           0   \n",
              "\n",
              "   IS_HOLIDAY             training  \n",
              "0           1  [1 0 0 0 0 0 0 0 1]  \n",
              "1           0  [0 1 0 0 0 0 0 0 0]  \n",
              "2           0  [0 0 1 0 0 0 0 0 0]  \n",
              "3           0  [0 0 0 1 0 0 0 0 0]  \n",
              "4           0  [0 0 0 0 1 0 0 0 0]  \n",
              "\n",
              "[5 rows x 34 columns]"
            ],
            "text/html": [
              "\n",
              "  <div id=\"df-14649fd2-db8f-47c3-a531-9607b31eb4b4\">\n",
              "    <div class=\"colab-df-container\">\n",
              "      <div>\n",
              "<style scoped>\n",
              "    .dataframe tbody tr th:only-of-type {\n",
              "        vertical-align: middle;\n",
              "    }\n",
              "\n",
              "    .dataframe tbody tr th {\n",
              "        vertical-align: top;\n",
              "    }\n",
              "\n",
              "    .dataframe thead th {\n",
              "        text-align: right;\n",
              "    }\n",
              "</style>\n",
              "<table border=\"1\" class=\"dataframe\">\n",
              "  <thead>\n",
              "    <tr style=\"text-align: right;\">\n",
              "      <th></th>\n",
              "      <th>Unnamed: 0</th>\n",
              "      <th>FECHA_INICIO_DESPLAZAMIENTO_MOVIL</th>\n",
              "      <th>Total_calls</th>\n",
              "      <th>Alta_counts_less_1</th>\n",
              "      <th>Media_counts_lag_less_1</th>\n",
              "      <th>Baja_counts_less_1</th>\n",
              "      <th>Suba_counts</th>\n",
              "      <th>Santa_Fe_counts</th>\n",
              "      <th>Engativá_counts</th>\n",
              "      <th>Puente_Aranda_counts</th>\n",
              "      <th>...</th>\n",
              "      <th>La_Candelaria_counts</th>\n",
              "      <th>Sumapaz_counts</th>\n",
              "      <th>Alta_counts</th>\n",
              "      <th>Media_counts</th>\n",
              "      <th>Baja_counts</th>\n",
              "      <th>No_Clasificado_counts</th>\n",
              "      <th>DAY_OF_WEEK</th>\n",
              "      <th>IS_WEEKEND</th>\n",
              "      <th>IS_HOLIDAY</th>\n",
              "      <th>training</th>\n",
              "    </tr>\n",
              "  </thead>\n",
              "  <tbody>\n",
              "    <tr>\n",
              "      <th>0</th>\n",
              "      <td>0</td>\n",
              "      <td>2019-01-01 00:00:00</td>\n",
              "      <td>494</td>\n",
              "      <td>0</td>\n",
              "      <td>0</td>\n",
              "      <td>0</td>\n",
              "      <td>57</td>\n",
              "      <td>10</td>\n",
              "      <td>38</td>\n",
              "      <td>29</td>\n",
              "      <td>...</td>\n",
              "      <td>1</td>\n",
              "      <td>0</td>\n",
              "      <td>413</td>\n",
              "      <td>74</td>\n",
              "      <td>7</td>\n",
              "      <td>0</td>\n",
              "      <td>[1 0 0 0 0 0 0]</td>\n",
              "      <td>0</td>\n",
              "      <td>1</td>\n",
              "      <td>[1 0 0 0 0 0 0 0 1]</td>\n",
              "    </tr>\n",
              "    <tr>\n",
              "      <th>1</th>\n",
              "      <td>1</td>\n",
              "      <td>2019-01-02 00:00:00</td>\n",
              "      <td>411</td>\n",
              "      <td>413</td>\n",
              "      <td>74</td>\n",
              "      <td>7</td>\n",
              "      <td>46</td>\n",
              "      <td>17</td>\n",
              "      <td>30</td>\n",
              "      <td>15</td>\n",
              "      <td>...</td>\n",
              "      <td>2</td>\n",
              "      <td>0</td>\n",
              "      <td>334</td>\n",
              "      <td>69</td>\n",
              "      <td>7</td>\n",
              "      <td>1</td>\n",
              "      <td>[0 1 0 0 0 0 0]</td>\n",
              "      <td>0</td>\n",
              "      <td>0</td>\n",
              "      <td>[0 1 0 0 0 0 0 0 0]</td>\n",
              "    </tr>\n",
              "    <tr>\n",
              "      <th>2</th>\n",
              "      <td>2</td>\n",
              "      <td>2019-01-03 00:00:00</td>\n",
              "      <td>380</td>\n",
              "      <td>334</td>\n",
              "      <td>69</td>\n",
              "      <td>7</td>\n",
              "      <td>37</td>\n",
              "      <td>7</td>\n",
              "      <td>42</td>\n",
              "      <td>29</td>\n",
              "      <td>...</td>\n",
              "      <td>1</td>\n",
              "      <td>0</td>\n",
              "      <td>302</td>\n",
              "      <td>70</td>\n",
              "      <td>6</td>\n",
              "      <td>2</td>\n",
              "      <td>[0 0 1 0 0 0 0]</td>\n",
              "      <td>0</td>\n",
              "      <td>0</td>\n",
              "      <td>[0 0 1 0 0 0 0 0 0]</td>\n",
              "    </tr>\n",
              "    <tr>\n",
              "      <th>3</th>\n",
              "      <td>3</td>\n",
              "      <td>2019-01-04 00:00:00</td>\n",
              "      <td>432</td>\n",
              "      <td>302</td>\n",
              "      <td>70</td>\n",
              "      <td>6</td>\n",
              "      <td>51</td>\n",
              "      <td>13</td>\n",
              "      <td>34</td>\n",
              "      <td>25</td>\n",
              "      <td>...</td>\n",
              "      <td>6</td>\n",
              "      <td>0</td>\n",
              "      <td>329</td>\n",
              "      <td>95</td>\n",
              "      <td>8</td>\n",
              "      <td>0</td>\n",
              "      <td>[0 0 0 1 0 0 0]</td>\n",
              "      <td>0</td>\n",
              "      <td>0</td>\n",
              "      <td>[0 0 0 1 0 0 0 0 0]</td>\n",
              "    </tr>\n",
              "    <tr>\n",
              "      <th>4</th>\n",
              "      <td>4</td>\n",
              "      <td>2019-01-05 00:00:00</td>\n",
              "      <td>442</td>\n",
              "      <td>329</td>\n",
              "      <td>95</td>\n",
              "      <td>8</td>\n",
              "      <td>49</td>\n",
              "      <td>16</td>\n",
              "      <td>40</td>\n",
              "      <td>24</td>\n",
              "      <td>...</td>\n",
              "      <td>2</td>\n",
              "      <td>0</td>\n",
              "      <td>339</td>\n",
              "      <td>94</td>\n",
              "      <td>8</td>\n",
              "      <td>1</td>\n",
              "      <td>[0 0 0 0 1 0 0]</td>\n",
              "      <td>0</td>\n",
              "      <td>0</td>\n",
              "      <td>[0 0 0 0 1 0 0 0 0]</td>\n",
              "    </tr>\n",
              "  </tbody>\n",
              "</table>\n",
              "<p>5 rows × 34 columns</p>\n",
              "</div>\n",
              "      <button class=\"colab-df-convert\" onclick=\"convertToInteractive('df-14649fd2-db8f-47c3-a531-9607b31eb4b4')\"\n",
              "              title=\"Convert this dataframe to an interactive table.\"\n",
              "              style=\"display:none;\">\n",
              "        \n",
              "  <svg xmlns=\"http://www.w3.org/2000/svg\" height=\"24px\"viewBox=\"0 0 24 24\"\n",
              "       width=\"24px\">\n",
              "    <path d=\"M0 0h24v24H0V0z\" fill=\"none\"/>\n",
              "    <path d=\"M18.56 5.44l.94 2.06.94-2.06 2.06-.94-2.06-.94-.94-2.06-.94 2.06-2.06.94zm-11 1L8.5 8.5l.94-2.06 2.06-.94-2.06-.94L8.5 2.5l-.94 2.06-2.06.94zm10 10l.94 2.06.94-2.06 2.06-.94-2.06-.94-.94-2.06-.94 2.06-2.06.94z\"/><path d=\"M17.41 7.96l-1.37-1.37c-.4-.4-.92-.59-1.43-.59-.52 0-1.04.2-1.43.59L10.3 9.45l-7.72 7.72c-.78.78-.78 2.05 0 2.83L4 21.41c.39.39.9.59 1.41.59.51 0 1.02-.2 1.41-.59l7.78-7.78 2.81-2.81c.8-.78.8-2.07 0-2.86zM5.41 20L4 18.59l7.72-7.72 1.47 1.35L5.41 20z\"/>\n",
              "  </svg>\n",
              "      </button>\n",
              "      \n",
              "  <style>\n",
              "    .colab-df-container {\n",
              "      display:flex;\n",
              "      flex-wrap:wrap;\n",
              "      gap: 12px;\n",
              "    }\n",
              "\n",
              "    .colab-df-convert {\n",
              "      background-color: #E8F0FE;\n",
              "      border: none;\n",
              "      border-radius: 50%;\n",
              "      cursor: pointer;\n",
              "      display: none;\n",
              "      fill: #1967D2;\n",
              "      height: 32px;\n",
              "      padding: 0 0 0 0;\n",
              "      width: 32px;\n",
              "    }\n",
              "\n",
              "    .colab-df-convert:hover {\n",
              "      background-color: #E2EBFA;\n",
              "      box-shadow: 0px 1px 2px rgba(60, 64, 67, 0.3), 0px 1px 3px 1px rgba(60, 64, 67, 0.15);\n",
              "      fill: #174EA6;\n",
              "    }\n",
              "\n",
              "    [theme=dark] .colab-df-convert {\n",
              "      background-color: #3B4455;\n",
              "      fill: #D2E3FC;\n",
              "    }\n",
              "\n",
              "    [theme=dark] .colab-df-convert:hover {\n",
              "      background-color: #434B5C;\n",
              "      box-shadow: 0px 1px 3px 1px rgba(0, 0, 0, 0.15);\n",
              "      filter: drop-shadow(0px 1px 2px rgba(0, 0, 0, 0.3));\n",
              "      fill: #FFFFFF;\n",
              "    }\n",
              "  </style>\n",
              "\n",
              "      <script>\n",
              "        const buttonEl =\n",
              "          document.querySelector('#df-14649fd2-db8f-47c3-a531-9607b31eb4b4 button.colab-df-convert');\n",
              "        buttonEl.style.display =\n",
              "          google.colab.kernel.accessAllowed ? 'block' : 'none';\n",
              "\n",
              "        async function convertToInteractive(key) {\n",
              "          const element = document.querySelector('#df-14649fd2-db8f-47c3-a531-9607b31eb4b4');\n",
              "          const dataTable =\n",
              "            await google.colab.kernel.invokeFunction('convertToInteractive',\n",
              "                                                     [key], {});\n",
              "          if (!dataTable) return;\n",
              "\n",
              "          const docLinkHtml = 'Like what you see? Visit the ' +\n",
              "            '<a target=\"_blank\" href=https://colab.research.google.com/notebooks/data_table.ipynb>data table notebook</a>'\n",
              "            + ' to learn more about interactive tables.';\n",
              "          element.innerHTML = '';\n",
              "          dataTable['output_type'] = 'display_data';\n",
              "          await google.colab.output.renderOutput(dataTable, element);\n",
              "          const docLink = document.createElement('div');\n",
              "          docLink.innerHTML = docLinkHtml;\n",
              "          element.appendChild(docLink);\n",
              "        }\n",
              "      </script>\n",
              "    </div>\n",
              "  </div>\n",
              "  "
            ]
          },
          "metadata": {},
          "execution_count": 6
        }
      ],
      "source": [
        "# Ingrese su código aquí\n",
        "corpus = pd.read_csv('process_data.csv')\n",
        "corpus.head()"
      ]
    },
    {
      "cell_type": "markdown",
      "source": [
        "## 3. Preprocesamiento\n",
        "---\n",
        "\n",
        "Escriba una función que permita preprocesar los datos en dependencia del dominio de la aplicación:\n",
        "\n",
        "* Información estructurada: outliers, z-scaling, min-max normalization, entre otros.\n",
        "* Texto: tokenization, stopwords, expresiones regulares, stemming, unidecode, entre otros.\n",
        "* Imágenes: data augmentation, resizing, ajuste de color, entre otros.\n",
        "* Series de tiempo: outliers, suavizado, interpolación, entre otros."
      ],
      "metadata": {
        "id": "nOLPbaJAuwru"
      }
    },
    {
      "cell_type": "code",
      "source": [
        "# Ingrese su código aquí\n",
        "def preprocess(data):\n",
        "    calls_123_train = simpleBreakoutDataFrame(data, end=256)\n",
        "    x_calls_123_train = calls_123_train.values[:,26]\n",
        "    x_calls_123_train_tf = transformToTensor(x_calls_123_train)\n",
        "    gen_training = extract_sequences(x_calls_123_train_tf, dataset_params.window_size)\n",
        "\n",
        "    calls_123_testing = simpleBreakoutDataFrame(data, start=256)\n",
        "    x_calls_123_testing = calls_123_testing.values[:,26]\n",
        "    x_calls_123_testing_tf = transformToTensor(x_calls_123_testing)\n",
        "\n",
        "    dataset_training = (\n",
        "        tf.data.Dataset.from_generator(\n",
        "            partial(extract_sequences, X=x_calls_123_train_tf, window_size=dataset_params.window_size),\n",
        "            output_types=tf.float32,\n",
        "            output_shapes=(dataset_params.window_size, )\n",
        "        )\n",
        "        .map(lambda seq: (tf.reshape(seq[:-1], (-1, 1)), seq[-1]))\n",
        "        .batch(dataset_params.batch_size, drop_remainder=True)\n",
        "    )\n",
        "\n",
        "    return dataset_training, x_calls_123_testing_tf"
      ],
      "metadata": {
        "id": "3hUnJBC4uVve"
      },
      "execution_count": 43,
      "outputs": []
    },
    {
      "cell_type": "code",
      "source": [
        "training_data_generator, testing_data = preprocess(corpus)"
      ],
      "metadata": {
        "id": "HDN_m0EQFpTz"
      },
      "execution_count": 44,
      "outputs": []
    },
    {
      "cell_type": "code",
      "source": [
        "testing_data"
      ],
      "metadata": {
        "colab": {
          "base_uri": "https://localhost:8080/"
        },
        "id": "k9RvnB7aftLY",
        "outputId": "277d52d9-2fb6-4981-e43d-82ad839a6d27"
      },
      "execution_count": 45,
      "outputs": [
        {
          "output_type": "execute_result",
          "data": {
            "text/plain": [
              "<tf.Tensor: shape=(15,), dtype=float32, numpy=\n",
              "array([510., 440., 485., 490., 460., 448., 427., 506., 422., 454., 481.,\n",
              "       443., 547., 469., 313.], dtype=float32)>"
            ]
          },
          "metadata": {},
          "execution_count": 45
        }
      ]
    },
    {
      "cell_type": "markdown",
      "source": [
        "## 4. Modelamiento\n",
        "---\n",
        "\n",
        "Seleccione un modelo apropiado para el problema que desea solucionar (clasificación, regresión, agrupamiento, tópicos, entre otros) y entrenelo con las representaciones obtenidas en el paso anterior.\n"
      ],
      "metadata": {
        "id": "78-t5pRavT8g"
      }
    },
    {
      "cell_type": "code",
      "source": [
        "def training(data, batch_size = 1, window_size = 1):\n",
        "    #Warm up\n",
        "    model_previously = GruForcaster(64, activation=\"relu\")\n",
        "    model_previously.build((dataset_params.batch_size, dataset_params.window_size, 1))\n",
        "    model_previously.compile(loss=\"mse\", optimizer=Adam(learning_rate=1e-4), metrics=[CategoricalAccuracy()])\n",
        "    model_previously.load_weights(\"trained_model.h5\")\n",
        "\n",
        "    model_previously.fit(data, steps_per_epoch=200, epochs=10)\n",
        "\n",
        "    model_previously.save_weights(\"trained_model_warm.h5\")\n",
        "\n",
        "    model = GruForcaster(64, activation=\"relu\")\n",
        "    model.build((1, 1, 1))\n",
        "    model.load_weights(\"trained_model_warm.h5\")\n",
        "\n",
        "    return model"
      ],
      "metadata": {
        "id": "2f3bGfGivS8n"
      },
      "execution_count": 46,
      "outputs": []
    },
    {
      "cell_type": "code",
      "source": [
        "model = training(training_data_generator)"
      ],
      "metadata": {
        "colab": {
          "base_uri": "https://localhost:8080/"
        },
        "id": "iZAoqi8CGEho",
        "outputId": "490984d9-7a82-4963-b1a9-230bedc53a08"
      },
      "execution_count": 47,
      "outputs": [
        {
          "output_type": "stream",
          "name": "stdout",
          "text": [
            "WARNING:tensorflow:Layer gru_8 will not use cuDNN kernels since it doesn't meet the criteria. It will use a generic GPU kernel as fallback when running on GPU.\n",
            "Epoch 1/10\n",
            "200/200 [==============================] - 8s 38ms/step - loss: 572.8369 - categorical_accuracy: 1.0000\n",
            "Epoch 2/10\n",
            "200/200 [==============================] - 7s 37ms/step - loss: 539.4772 - categorical_accuracy: 1.0000\n",
            "Epoch 3/10\n",
            "200/200 [==============================] - 7s 37ms/step - loss: 472.6300 - categorical_accuracy: 1.0000\n",
            "Epoch 4/10\n",
            "200/200 [==============================] - 7s 37ms/step - loss: 511.2321 - categorical_accuracy: 1.0000\n",
            "Epoch 5/10\n",
            "200/200 [==============================] - 7s 37ms/step - loss: 497.6466 - categorical_accuracy: 1.0000\n",
            "Epoch 6/10\n",
            "200/200 [==============================] - 8s 38ms/step - loss: 1100.7870 - categorical_accuracy: 1.0000\n",
            "Epoch 7/10\n",
            "200/200 [==============================] - 8s 40ms/step - loss: 483.3497 - categorical_accuracy: 1.0000\n",
            "Epoch 8/10\n",
            "200/200 [==============================] - 7s 37ms/step - loss: 490.7728 - categorical_accuracy: 1.0000\n",
            "Epoch 9/10\n",
            "200/200 [==============================] - 7s 37ms/step - loss: 486.9505 - categorical_accuracy: 1.0000\n",
            "Epoch 10/10\n",
            "200/200 [==============================] - 7s 37ms/step - loss: 480.5544 - categorical_accuracy: 1.0000\n",
            "WARNING:tensorflow:Layer gru_9 will not use cuDNN kernels since it doesn't meet the criteria. It will use a generic GPU kernel as fallback when running on GPU.\n"
          ]
        }
      ]
    },
    {
      "cell_type": "code",
      "source": [
        "model.summary()"
      ],
      "metadata": {
        "colab": {
          "base_uri": "https://localhost:8080/"
        },
        "id": "6N5N38t8h9Ex",
        "outputId": "cab64412-5d85-4f6f-cacb-ca5a263a98cb"
      },
      "execution_count": 48,
      "outputs": [
        {
          "output_type": "stream",
          "name": "stdout",
          "text": [
            "Model: \"gru_forcaster_9\"\n",
            "_________________________________________________________________\n",
            " Layer (type)                Output Shape              Param #   \n",
            "=================================================================\n",
            " gru_9 (GRU)                 multiple                  12864     \n",
            "                                                                 \n",
            " dense_36 (Dense)            multiple                  8320      \n",
            "                                                                 \n",
            " dense_37 (Dense)            multiple                  8256      \n",
            "                                                                 \n",
            " dense_38 (Dense)            multiple                  8320      \n",
            "                                                                 \n",
            " dense_39 (Dense)            multiple                  129       \n",
            "                                                                 \n",
            "=================================================================\n",
            "Total params: 37,889\n",
            "Trainable params: 37,889\n",
            "Non-trainable params: 0\n",
            "_________________________________________________________________\n"
          ]
        }
      ]
    },
    {
      "cell_type": "markdown",
      "source": [
        "## 6. Evaluacion\n",
        "---\n",
        "\n",
        "Evalúe el desempeño de su modelo con una métrica de desempeño apropiada al problema.\n"
      ],
      "metadata": {
        "id": "KLWpwfmuv3a1"
      }
    },
    {
      "cell_type": "code",
      "source": [
        "def evaluate(model, data):\n",
        "    preds = []\n",
        "    init_val = data[0]\n",
        "\n",
        "    for i in tqdm(range(len(data))):\n",
        "      model_input = np.array(init_val, dtype=\"float32\").reshape((1, 1, 1))\n",
        "      pred = float(model.predict(model_input))\n",
        "      preds.append(pred)\n",
        "      init_val = pred\n",
        "\n",
        "    return preds"
      ],
      "metadata": {
        "id": "CBNen6MpvtnL"
      },
      "execution_count": 27,
      "outputs": []
    },
    {
      "cell_type": "code",
      "source": [
        "preds = evaluate(model, testing_data)"
      ],
      "metadata": {
        "colab": {
          "base_uri": "https://localhost:8080/"
        },
        "id": "30mPirwlU_eg",
        "outputId": "d0aa9dd5-f2eb-4b6d-b321-e307f0f8ead5"
      },
      "execution_count": 49,
      "outputs": [
        {
          "output_type": "stream",
          "name": "stderr",
          "text": [
            "100%|██████████| 15/15 [00:00<00:00, 22.20it/s]\n"
          ]
        }
      ]
    },
    {
      "cell_type": "code",
      "source": [
        "\n",
        "data_graphic = [\n",
        "    (preds, None, 'Predicho Prioridad Alta'),\n",
        "    (testing_data, \"--\", 'Real Prioridad Alta')\n",
        "]"
      ],
      "metadata": {
        "id": "8E8BEnNrVKdZ"
      },
      "execution_count": 50,
      "outputs": []
    },
    {
      "cell_type": "code",
      "source": [
        "priorityGraphics(data_graphic)"
      ],
      "metadata": {
        "colab": {
          "base_uri": "https://localhost:8080/",
          "height": 530
        },
        "id": "p6D-o0mgVJeV",
        "outputId": "cc4f0962-9468-4b8d-89d1-c3c53b7cd43e"
      },
      "execution_count": 51,
      "outputs": [
        {
          "output_type": "display_data",
          "data": {
            "text/plain": [
              "<Figure size 1800x540 with 1 Axes>"
            ],
            "image/png": "[encoded data removed]"
          },
          "metadata": {
            "needs_background": "light"
          }
        }
      ]
    },
    {
      "cell_type": "markdown",
      "source": [
        "## 7. Discusión y Conclusiones\n",
        "---\n",
        "\n",
        "El Como se puede observar el modelo no alcanza a realizar muy buenos resultados, esto se debe a la cantidad de datos y qeu falto un poco más de entrenamiento para ver si este podia aproximarse un poco más a la realidad de los datos, en si la enseñazan que nos deja esto en comparación con el modulo de machine learning es un aprendizaje más profundo de como manejar las series de tiempo de una manera más clara que lo aprendido anteriormente en el otro modulo, esto tal vez a la experiencia o a la practica que se esta adquiriendo con estos cursos.\n",
        "\n",
        "Aunque en el modulo anterior los resultados fueron más precisos, esto demuestra que para esta cantidad de datos, se puede haber hecho con un regresion de sklearn.\n"
      ],
      "metadata": {
        "id": "kYv_hAkDv7_e"
      }
    },
    {
      "cell_type": "markdown",
      "source": [
        "## Nota\n",
        "---\n",
        "Se anexan un colab con el entrenamiento de este modelo, y el proyecto del modulo de machine learning."
      ],
      "metadata": {
        "id": "nmxPG8wHkFkl"
      }
    }
  ]
}